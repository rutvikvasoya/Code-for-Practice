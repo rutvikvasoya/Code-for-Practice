{
 "cells": [
  {
   "cell_type": "code",
   "execution_count": 1,
   "id": "2ad8a6de",
   "metadata": {},
   "outputs": [],
   "source": [
    "import cv2\n",
    "import face_recognition\n"
   ]
  },
  {
   "cell_type": "code",
   "execution_count": 2,
   "id": "a532e87a",
   "metadata": {},
   "outputs": [],
   "source": [
    "#webcam_video_stream = cv2.VideoCapture(0)      #argument 0 means that we have to start default webcam of our pc\n",
    "webcam_video_stream = cv2.VideoCapture('/home/ad.rapidops.com/rutvik.vasoya/Desktop/testing.mp4')    "
   ]
  },
  {
   "cell_type": "code",
   "execution_count": 3,
   "id": "094caac5",
   "metadata": {},
   "outputs": [
    {
     "ename": "IndentationError",
     "evalue": "unexpected indent (3826006269.py, line 28)",
     "output_type": "error",
     "traceback": [
      "\u001b[0;36m  Input \u001b[0;32mIn [3]\u001b[0;36m\u001b[0m\n\u001b[0;31m    top_pos = top_pos*4\u001b[0m\n\u001b[0m    ^\u001b[0m\n\u001b[0;31mIndentationError\u001b[0m\u001b[0;31m:\u001b[0m unexpected indent\n"
     ]
    }
   ],
   "source": [
    "#initialize the array variable to hold all face location in the frame\n",
    "all_face_location = []\n",
    "\n",
    "\n",
    "\n",
    "\n",
    "#loop through every frame in this video\n",
    "\n",
    "while True:\n",
    "     \n",
    "        #get the current frame from the video stream as an image\n",
    "        ret, current_frame = webcam_video_stream.read()     #this function return two value, ret is boolean if any face detect than true otherwise false and current frame from a video\n",
    "        \n",
    "        #resize the current frame by 1/4 size to process faster\n",
    "        current_small_frame = cv2.resize(current_frame,(0,0),fx=0.25,fy=0.25)\n",
    "        \n",
    "        \n",
    "        #now detect the all faces \n",
    "        #argumenets are image,no_of_times_to_upscale,model\n",
    "        all_face_location = face_recognition.face_locations(current_small_frame,number_of_times_to_upsample=2,model='hog')\n",
    "        \n",
    "        \n",
    "        for index,current_face_location in enumerate(all_face_location):\n",
    "            top_pos,right_pos,bottom_pos,left_pos = current_face_location\n",
    "            print(top_pos)\n",
    "\n",
    "#now change the position magnitute to fit the actual size video frame\n",
    "              top_pos = top_pos*4\n",
    "              right_pos = right_pos*4\n",
    "              bottom_pos = bottom_pos*4\n",
    "              left_pos = left_pos*4\n",
    "                \n",
    "#now draw the rectange around around all the detected faces\n",
    "               cv2.rectangle(current_frame,(left_pos,top_pos),(right_pos,bottom_pos),(0,0,255),2)\n",
    "                                                                                     #(r,g,b) (width of line)\n",
    "                cv2.imshow(\"webcam  video\",current_frame)\n",
    "            \n",
    "            if cv2.waitKey(1) && 0xff == ord('q'):\n",
    "                break\n",
    "                \n",
    "webcam_video_stream.release()\n",
    "cv2.destroyAllWindows()"
   ]
  }
 ],
 "metadata": {
  "kernelspec": {
   "display_name": "Python 3 (ipykernel)",
   "language": "python",
   "name": "python3"
  },
  "language_info": {
   "codemirror_mode": {
    "name": "ipython",
    "version": 3
   },
   "file_extension": ".py",
   "mimetype": "text/x-python",
   "name": "python",
   "nbconvert_exporter": "python",
   "pygments_lexer": "ipython3",
   "version": "3.9.12"
  }
 },
 "nbformat": 4,
 "nbformat_minor": 5
}
