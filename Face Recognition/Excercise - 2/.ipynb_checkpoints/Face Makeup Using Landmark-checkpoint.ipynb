{
 "cells": [
  {
   "cell_type": "code",
   "execution_count": 1,
   "id": "76b96c1a",
   "metadata": {},
   "outputs": [],
   "source": [
    "import face_recognition\n",
    "from PIL import Image,ImageDraw"
   ]
  },
  {
   "cell_type": "code",
   "execution_count": 10,
   "id": "91e27a0c",
   "metadata": {},
   "outputs": [
    {
     "name": "stdout",
     "output_type": "stream",
     "text": [
      "[{'chin': [(65, 81), (66, 87), (66, 93), (67, 99), (69, 104), (71, 110), (75, 114), (80, 118), (86, 120), (92, 119), (98, 115), (103, 110), (106, 105), (108, 100), (109, 94), (110, 88), (110, 82)], 'left_eyebrow': [(69, 79), (72, 76), (76, 76), (80, 77), (84, 78)], 'right_eyebrow': [(90, 78), (94, 76), (98, 76), (102, 76), (105, 79)], 'nose_bridge': [(87, 81), (86, 85), (86, 89), (85, 94)], 'nose_tip': [(82, 96), (84, 97), (85, 98), (88, 97), (90, 97)], 'left_eye': [(73, 82), (76, 80), (79, 80), (81, 82), (78, 83), (75, 83)], 'right_eye': [(93, 82), (95, 80), (98, 80), (101, 82), (99, 83), (96, 83)], 'top_lip': [(77, 105), (80, 104), (83, 103), (86, 104), (88, 104), (91, 104), (95, 106), (93, 106), (89, 105), (86, 106), (83, 105), (78, 105)], 'bottom_lip': [(95, 106), (91, 108), (88, 109), (86, 109), (83, 109), (80, 108), (77, 105), (78, 105), (83, 105), (85, 106), (88, 105), (93, 106)]}]\n"
     ]
    }
   ],
   "source": [
    "#load the image file\n",
    "face_image = face_recognition.load_image_file('tony2.jpeg')\n",
    "\n",
    "\n",
    "#get the face landmark list\n",
    "face_landmark_list = face_recognition.face_landmarks(face_image)\n",
    "print(face_landmark_list)\n",
    "for face_landmark in face_landmark_list:\n",
    "      \n",
    "\n",
    "        #convert numpy array image into pill image object\n",
    "        pil_image = Image.fromarray(face_image)\n",
    "        \n",
    "        #convert the pil image to draw object \n",
    "        d = ImageDraw.Draw(pil_image, 'RGBA') #by default mode is rgb but we also can specify mode like rgba\n",
    "                                            # a stands for alpha mode\n",
    "        \n",
    "        #make  Left,Right eyebrows darker\n",
    "        d.polygon(face_landmark['left_eyebrow'],fill=(68,54,39,128))\n",
    "        d.polygon(face_landmark['right_eyebrow'],fill=(68,54,39,128))\n",
    "        d.line(face_landmark['left_eyebrow'],fill=(255,255,255,150),width=5)\n",
    "        d.line(face_landmark['right_eyebrow'],fill=(255,255,255,150),width=5)\n",
    "      \n",
    "        #add a lipstick to top and bottom lips\n",
    "        d.polygon(face_landmark['top_lip'],fill=(150,0,0,128))\n",
    "        d.polygon(face_landmark['bottom_lip'],fill=(150,0,0,128))\n",
    "        d.line(face_landmark['top_lip'],fill=(255,0,0,64),width=5)\n",
    "        d.line(face_landmark['bottom_lip'],fill=(150,0,0,64),width=5)\n",
    "      \n",
    "        #make a left and right eyes fill3ed with red\n",
    "        d.polygon(face_landmark['left_eye'],fill=(255,0,0,100))\n",
    "        d.polygon(face_landmark['right_eye'],fill=(255,0,0,100))\n",
    "        \n",
    "        \n",
    "        \n",
    "#show the final image\n",
    "pil_image.show()"
   ]
  },
  {
   "cell_type": "code",
   "execution_count": null,
   "id": "1e5b1d79",
   "metadata": {},
   "outputs": [],
   "source": []
  }
 ],
 "metadata": {
  "kernelspec": {
   "display_name": "Python 3 (ipykernel)",
   "language": "python",
   "name": "python3"
  },
  "language_info": {
   "codemirror_mode": {
    "name": "ipython",
    "version": 3
   },
   "file_extension": ".py",
   "mimetype": "text/x-python",
   "name": "python",
   "nbconvert_exporter": "python",
   "pygments_lexer": "ipython3",
   "version": "3.9.12"
  }
 },
 "nbformat": 4,
 "nbformat_minor": 5
}
