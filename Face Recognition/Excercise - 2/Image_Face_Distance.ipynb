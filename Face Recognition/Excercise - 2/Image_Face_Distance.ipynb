{
 "cells": [
  {
   "cell_type": "code",
   "execution_count": 2,
   "id": "aa0c0389",
   "metadata": {},
   "outputs": [],
   "source": [
    "import cv2\n",
    "import face_recognition\n",
    "import matplotlib.pyplot as plt\n"
   ]
  },
  {
   "cell_type": "code",
   "execution_count": 16,
   "id": "7af149b0",
   "metadata": {},
   "outputs": [
    {
     "name": "stdout",
     "output_type": "stream",
     "text": [
      "the calculate face distance is 0.5144612524003505 from the sample images tony\n",
      "the calculate face distance is 0.7768099639423004 from the sample images captain\n"
     ]
    }
   ],
   "source": [
    "#load the sample image and get the 128 face embedding from them\n",
    "\n",
    "tony_image = face_recognition.load_image_file('tony.jpg')\n",
    "tony_face_encoding = face_recognition.face_encodings(tony_image)[0]\n",
    "\n",
    "cap_image = face_recognition.load_image_file('cap.jpeg')\n",
    "cap_face_encoding = face_recognition.face_encodings(cap_image)[0]  #we have only one face in this image,so we give 0\n",
    "\n",
    "know_face_encoding = [tony_face_encoding,cap_face_encoding]\n",
    "know_face_names = ['tony','captain']\n",
    "\n",
    "#load the unknow image to identify the faces\n",
    "image_to_recognition = face_recognition.load_image_file('tony2.jpeg')\n",
    "image_to_recognition_encodings = face_recognition.face_encodings(image_to_recognition)[0]\n",
    "\n",
    "\n",
    "#find the face distance of image_to_recognize with known sample\n",
    "face_distances = face_recognition.face_distance(know_face_encoding,image_to_recognition_encodings)\n",
    "\n",
    "\n",
    "for i,face_distance in enumerate(face_distances):\n",
    "    print(f'the calculate face distance is {face_distance} from the sample images {know_face_names[i]}')\n",
    "\n"
   ]
  },
  {
   "cell_type": "code",
   "execution_count": 17,
   "id": "c8f178e1",
   "metadata": {},
   "outputs": [],
   "source": [
    "#we got the less distance from tony image so we can say predicted image is tony stark\n",
    "\n"
   ]
  }
 ],
 "metadata": {
  "kernelspec": {
   "display_name": "Python 3 (ipykernel)",
   "language": "python",
   "name": "python3"
  },
  "language_info": {
   "codemirror_mode": {
    "name": "ipython",
    "version": 3
   },
   "file_extension": ".py",
   "mimetype": "text/x-python",
   "name": "python",
   "nbconvert_exporter": "python",
   "pygments_lexer": "ipython3",
   "version": "3.9.12"
  }
 },
 "nbformat": 4,
 "nbformat_minor": 5
}
