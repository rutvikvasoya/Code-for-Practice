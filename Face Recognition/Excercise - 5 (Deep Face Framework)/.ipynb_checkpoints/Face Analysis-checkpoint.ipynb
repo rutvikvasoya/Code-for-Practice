{
 "cells": [
  {
   "cell_type": "code",
   "execution_count": 1,
   "id": "f7776487",
   "metadata": {},
   "outputs": [],
   "source": [
    "from deepface  import DeepFace\n"
   ]
  },
  {
   "cell_type": "code",
   "execution_count": null,
   "id": "0beeb1a9",
   "metadata": {},
   "outputs": [
    {
     "name": "stdout",
     "output_type": "stream",
     "text": [
      "facial_expression_model_weights.h5 will be downloaded...\n"
     ]
    },
    {
     "name": "stderr",
     "output_type": "stream",
     "text": [
      "Downloading...\n",
      "From: https://github.com/serengil/deepface_models/releases/download/v1.0/facial_expression_model_weights.h5\n",
      "To: /home/ad.rapidops.com/rutvik.vasoya/.deepface/weights/facial_expression_model_weights.h5\n",
      "100%|██████████████████████████████████████| 5.98M/5.98M [00:02<00:00, 2.56MB/s]\n"
     ]
    },
    {
     "name": "stdout",
     "output_type": "stream",
     "text": [
      "age_model_weights.h5 will be downloaded...\n"
     ]
    },
    {
     "name": "stderr",
     "output_type": "stream",
     "text": [
      "Downloading...\n",
      "From: https://github.com/serengil/deepface_models/releases/download/v1.0/age_model_weights.h5\n",
      "To: /home/ad.rapidops.com/rutvik.vasoya/.deepface/weights/age_model_weights.h5\n",
      "100%|████████████████████████████████████████| 539M/539M [02:42<00:00, 3.32MB/s]\n"
     ]
    },
    {
     "name": "stdout",
     "output_type": "stream",
     "text": [
      "gender_model_weights.h5 will be downloaded...\n"
     ]
    },
    {
     "name": "stderr",
     "output_type": "stream",
     "text": [
      "Downloading...\n",
      "From: https://github.com/serengil/deepface_models/releases/download/v1.0/gender_model_weights.h5\n",
      "To: /home/ad.rapidops.com/rutvik.vasoya/.deepface/weights/gender_model_weights.h5\n",
      "100%|████████████████████████████████████████| 537M/537M [02:04<00:00, 4.33MB/s]\n"
     ]
    },
    {
     "name": "stdout",
     "output_type": "stream",
     "text": [
      "race_model_single_batch.h5 will be downloaded...\n"
     ]
    },
    {
     "name": "stderr",
     "output_type": "stream",
     "text": [
      "Downloading...\n",
      "From: https://github.com/serengil/deepface_models/releases/download/v1.0/race_model_single_batch.h5\n",
      "To: /home/ad.rapidops.com/rutvik.vasoya/.deepface/weights/race_model_single_batch.h5\n",
      "  4%|█▋                                     | 23.6M/537M [00:09<03:06, 2.75MB/s]"
     ]
    }
   ],
   "source": [
    "#face analysis\n",
    "face_analysis = DeepFace.analyze(img_path='testing/modi2.jpg',actions=['emotion','age','gender','race'])\n",
    "print(face_analysis)"
   ]
  },
  {
   "cell_type": "code",
   "execution_count": null,
   "id": "907696e1",
   "metadata": {},
   "outputs": [],
   "source": [
    "#https://drive.google.com/drive/folders/1B6jBm0jIQJqgK9lqxZonFdmcwLq5QXvx"
   ]
  }
 ],
 "metadata": {
  "kernelspec": {
   "display_name": "Python 3 (ipykernel)",
   "language": "python",
   "name": "python3"
  },
  "language_info": {
   "codemirror_mode": {
    "name": "ipython",
    "version": 3
   },
   "file_extension": ".py",
   "mimetype": "text/x-python",
   "name": "python",
   "nbconvert_exporter": "python",
   "pygments_lexer": "ipython3",
   "version": "3.9.12"
  }
 },
 "nbformat": 4,
 "nbformat_minor": 5
}
