{
 "cells": [
  {
   "cell_type": "code",
   "execution_count": 4,
   "id": "cc6e2858",
   "metadata": {},
   "outputs": [],
   "source": [
    "from deepface import DeepFace"
   ]
  },
  {
   "cell_type": "code",
   "execution_count": 5,
   "id": "15b0f700",
   "metadata": {},
   "outputs": [],
   "source": [
    "# we can also specify model name also distance matrics\n",
    "#model_name = 'VGG-Face','Facenet','Facenet512' ,'OpenFace','DeepFace'\n",
    "#distance_metric = 'cosine','euclidean','euclidean512'"
   ]
  },
  {
   "cell_type": "code",
   "execution_count": 6,
   "id": "a38b2ee8",
   "metadata": {},
   "outputs": [
    {
     "name": "stdout",
     "output_type": "stream",
     "text": [
      "1/1 [==============================] - 0s 96ms/step\n",
      "1/1 [==============================] - 0s 93ms/step\n",
      "{'verified': True, 'distance': 0.18890676664317174, 'threshold': 0.4, 'model': 'VGG-Face', 'detector_backend': 'opencv', 'similarity_metric': 'cosine'}\n"
     ]
    }
   ],
   "source": [
    "result = DeepFace.verify(img1_path= 'testing/modi2.jpg', img2_path= 'testing/modi1.jpg')\n",
    "print(result)"
   ]
  },
  {
   "cell_type": "code",
   "execution_count": 7,
   "id": "ebc6634a",
   "metadata": {},
   "outputs": [
    {
     "name": "stdout",
     "output_type": "stream",
     "text": [
      "1/1 [==============================] - 0s 96ms/step\n",
      "1/1 [==============================] - 0s 94ms/step\n",
      "{'verified': False, 'distance': 0.4521448601348089, 'threshold': 0.4, 'model': 'VGG-Face', 'detector_backend': 'opencv', 'similarity_metric': 'cosine'}\n"
     ]
    }
   ],
   "source": [
    "result = DeepFace.verify(img1_path= 'testing/modi2.jpg', img2_path= 'testing/joe1.jpg')\n",
    "print(result)"
   ]
  },
  {
   "cell_type": "code",
   "execution_count": 8,
   "id": "5b57cd0f",
   "metadata": {},
   "outputs": [],
   "source": [
    "#so as per first time we got distance is a very minimun so both face are matching but in the second case we got\n",
    "# a very high distance so we can say both faces are not matching"
   ]
  },
  {
   "cell_type": "code",
   "execution_count": null,
   "id": "64f9d66b",
   "metadata": {},
   "outputs": [],
   "source": []
  }
 ],
 "metadata": {
  "kernelspec": {
   "display_name": "Python 3 (ipykernel)",
   "language": "python",
   "name": "python3"
  },
  "language_info": {
   "codemirror_mode": {
    "name": "ipython",
    "version": 3
   },
   "file_extension": ".py",
   "mimetype": "text/x-python",
   "name": "python",
   "nbconvert_exporter": "python",
   "pygments_lexer": "ipython3",
   "version": "3.9.12"
  }
 },
 "nbformat": 4,
 "nbformat_minor": 5
}
