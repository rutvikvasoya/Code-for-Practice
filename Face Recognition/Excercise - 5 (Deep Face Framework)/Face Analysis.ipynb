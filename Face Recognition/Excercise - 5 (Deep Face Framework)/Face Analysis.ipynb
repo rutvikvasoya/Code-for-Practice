{
 "cells": [
  {
   "cell_type": "code",
   "execution_count": 1,
   "id": "b659f77a",
   "metadata": {},
   "outputs": [],
   "source": [
    "from deepface  import DeepFace\n"
   ]
  },
  {
   "cell_type": "code",
   "execution_count": 6,
   "id": "88e5b9a6",
   "metadata": {},
   "outputs": [
    {
     "name": "stderr",
     "output_type": "stream",
     "text": [
      "Action: emotion:   0%|                                    | 0/4 [00:00<?, ?it/s]"
     ]
    },
    {
     "name": "stdout",
     "output_type": "stream",
     "text": [
      "1/1 [==============================] - 0s 11ms/step\n"
     ]
    },
    {
     "name": "stderr",
     "output_type": "stream",
     "text": [
      "Action: age:  25%|████████                        | 1/4 [00:00<00:00,  6.33it/s]"
     ]
    },
    {
     "name": "stdout",
     "output_type": "stream",
     "text": [
      "1/1 [==============================] - 0s 93ms/step\n"
     ]
    },
    {
     "name": "stderr",
     "output_type": "stream",
     "text": [
      "Action: gender:  50%|██████████████▌              | 2/4 [00:00<00:00,  5.13it/s]"
     ]
    },
    {
     "name": "stdout",
     "output_type": "stream",
     "text": [
      "1/1 [==============================] - 0s 93ms/step\n"
     ]
    },
    {
     "name": "stderr",
     "output_type": "stream",
     "text": [
      "Action: race:  75%|███████████████████████▎       | 3/4 [00:00<00:00,  6.39it/s]"
     ]
    },
    {
     "name": "stdout",
     "output_type": "stream",
     "text": [
      "1/1 [==============================] - 0s 93ms/step\n"
     ]
    },
    {
     "name": "stderr",
     "output_type": "stream",
     "text": [
      "Action: race: 100%|███████████████████████████████| 4/4 [00:00<00:00,  6.67it/s]"
     ]
    },
    {
     "name": "stdout",
     "output_type": "stream",
     "text": [
      "{'emotion': {'angry': 4.768865586897732e-07, 'disgust': 1.1757330836308802e-10, 'fear': 5.541104794432926e-07, 'happy': 99.76816772032784, 'sad': 1.976749193361898e-06, 'surprise': 8.662552081281331e-07, 'neutral': 0.23183223310603102}, 'dominant_emotion': 'happy', 'region': {'x': 461, 'y': 152, 'w': 361, 'h': 361}, 'age': 38, 'gender': 'Man', 'race': {'asian': 9.48498901635343, 'indian': 10.066968057570937, 'black': 30.402718806428837, 'white': 13.996385872148625, 'middle eastern': 12.53482327072759, 'latino hispanic': 23.514117211944892}, 'dominant_race': 'black'}\n"
     ]
    },
    {
     "name": "stderr",
     "output_type": "stream",
     "text": [
      "\n"
     ]
    }
   ],
   "source": [
    "#face analysis\n",
    "face_analysis = DeepFace.analyze(img_path='testing/joe1.jpg',actions=['emotion','age','gender','race'])\n",
    "print(face_analysis)"
   ]
  },
  {
   "cell_type": "code",
   "execution_count": 4,
   "id": "c9c11a97",
   "metadata": {},
   "outputs": [],
   "source": [
    "#https://drive.google.com/drive/folders/1B6jBm0jIQJqgK9lqxZonFdmcwLq5QXvx"
   ]
  },
  {
   "cell_type": "code",
   "execution_count": null,
   "id": "8b5635bc",
   "metadata": {},
   "outputs": [],
   "source": []
  }
 ],
 "metadata": {
  "kernelspec": {
   "display_name": "Python 3 (ipykernel)",
   "language": "python",
   "name": "python3"
  },
  "language_info": {
   "codemirror_mode": {
    "name": "ipython",
    "version": 3
   },
   "file_extension": ".py",
   "mimetype": "text/x-python",
   "name": "python",
   "nbconvert_exporter": "python",
   "pygments_lexer": "ipython3",
   "version": "3.9.12"
  }
 },
 "nbformat": 4,
 "nbformat_minor": 5
}
