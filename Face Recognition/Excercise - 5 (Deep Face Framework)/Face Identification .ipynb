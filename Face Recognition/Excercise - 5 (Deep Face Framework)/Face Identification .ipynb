{
 "cells": [
  {
   "cell_type": "code",
   "execution_count": 1,
   "id": "b6b07ec5",
   "metadata": {},
   "outputs": [],
   "source": [
    "from deepface import DeepFace "
   ]
  },
  {
   "cell_type": "code",
   "execution_count": 4,
   "id": "ad0062ac",
   "metadata": {},
   "outputs": [
    {
     "name": "stdout",
     "output_type": "stream",
     "text": [
      "1/1 [==============================] - 0s 99ms/step\n",
      "1/1 [==============================] - 0s 95ms/step\n",
      "1/1 [==============================] - 0s 92ms/step\n",
      "1/1 [==============================] - 0s 93ms/step\n",
      "1/1 [==============================] - 0s 97ms/step\n",
      "Representations stored in  testing / representations_vgg_face.pkl  file. Please delete this file when you add new identities in your database.\n",
      "1/1 [==============================] - 0s 94ms/step\n",
      "find function lasts  1.3268730640411377  seconds\n",
      "            identity  VGG-Face_cosine\n",
      "0  testing/modi2.jpg     1.110223e-16\n",
      "1  testing/modi3.jpg     1.447361e-01\n",
      "2  testing/modi1.jpg     1.889068e-01\n"
     ]
    }
   ],
   "source": [
    "#face recognation\n",
    "face_recognition = DeepFace.find(img_path='testing/modi2.jpg',db_path='testing')\n",
    "print(face_recognition)"
   ]
  },
  {
   "cell_type": "code",
   "execution_count": 5,
   "id": "e9954af9",
   "metadata": {},
   "outputs": [],
   "source": [
    "#we got matching  images from the folder "
   ]
  },
  {
   "cell_type": "code",
   "execution_count": null,
   "id": "5cd2232a",
   "metadata": {},
   "outputs": [],
   "source": []
  }
 ],
 "metadata": {
  "kernelspec": {
   "display_name": "Python 3 (ipykernel)",
   "language": "python",
   "name": "python3"
  },
  "language_info": {
   "codemirror_mode": {
    "name": "ipython",
    "version": 3
   },
   "file_extension": ".py",
   "mimetype": "text/x-python",
   "name": "python",
   "nbconvert_exporter": "python",
   "pygments_lexer": "ipython3",
   "version": "3.9.12"
  }
 },
 "nbformat": 4,
 "nbformat_minor": 5
}
