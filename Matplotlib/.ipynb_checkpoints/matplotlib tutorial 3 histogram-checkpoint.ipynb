{
 "cells": [
  {
   "cell_type": "code",
   "execution_count": 1,
   "id": "6b9b8549",
   "metadata": {},
   "outputs": [],
   "source": [
    "import matplotlib.pyplot as plt\n",
    "import numpy as np\n",
    "import random"
   ]
  },
  {
   "cell_type": "code",
   "execution_count": 4,
   "id": "b0e7fbc7",
   "metadata": {},
   "outputs": [
    {
     "data": {
      "text/plain": [
       "array([31, 28, 47, 26, 47, 48, 49, 42, 27, 47, 48, 45, 36, 31, 28, 29, 27,\n",
       "       47, 40, 29, 43, 28, 32, 42, 31, 20, 33, 23, 27, 49, 26, 31, 46, 35,\n",
       "       22, 45, 27, 25, 44, 46, 26, 42, 41, 29, 28, 37, 32, 36, 25, 26, 39,\n",
       "       30, 27, 44, 42, 31, 26, 48, 27, 47, 27, 32, 28, 36, 37, 28, 34, 29,\n",
       "       42, 20, 20, 37, 26, 32, 48, 37, 27, 21, 23, 43, 36, 44, 41, 43, 28,\n",
       "       35, 49, 22, 29, 39, 39, 32, 25, 32, 31, 41, 23, 21, 38, 38])"
      ]
     },
     "execution_count": 4,
     "metadata": {},
     "output_type": "execute_result"
    }
   ],
   "source": [
    "ml_student_age = np.random.randint(20,50,(100))\n",
    "ds_student_age = np.random.randint(15,35,(100))\n",
    "ml_student_age\n"
   ]
  },
  {
   "cell_type": "code",
   "execution_count": 5,
   "id": "c406b42c",
   "metadata": {},
   "outputs": [
    {
     "data": {
      "text/plain": [
       "array([32, 28, 16, 15, 34, 24, 23, 16, 18, 24, 27, 19, 25, 18, 30, 22, 30,\n",
       "       22, 32, 31, 22, 33, 24, 31, 19, 24, 24, 25, 16, 17, 32, 20, 15, 15,\n",
       "       25, 31, 32, 15, 26, 20, 23, 24, 19, 30, 23, 19, 22, 15, 24, 31, 34,\n",
       "       15, 29, 34, 24, 31, 21, 25, 26, 27, 16, 22, 30, 21, 16, 22, 32, 21,\n",
       "       17, 24, 34, 31, 22, 15, 32, 21, 32, 31, 26, 21, 30, 26, 21, 34, 34,\n",
       "       18, 31, 15, 29, 24, 17, 33, 19, 25, 21, 28, 27, 16, 34, 26])"
      ]
     },
     "execution_count": 5,
     "metadata": {},
     "output_type": "execute_result"
    }
   ],
   "source": [
    "ds_student_age"
   ]
  },
  {
   "cell_type": "code",
   "execution_count": 6,
   "id": "a12a3677",
   "metadata": {},
   "outputs": [
    {
     "data": {
      "text/plain": [
       "(array([ 7.,  6., 21., 12.,  8., 10.,  6., 11.,  7., 12.]),\n",
       " array([20. , 22.9, 25.8, 28.7, 31.6, 34.5, 37.4, 40.3, 43.2, 46.1, 49. ]),\n",
       " <BarContainer object of 10 artists>)"
      ]
     },
     "execution_count": 6,
     "metadata": {},
     "output_type": "execute_result"
    },
    {
     "data": {
      "image/png": "[encoded data removed]",
      "text/plain": [
       "<Figure size 432x288 with 1 Axes>"
      ]
     },
     "metadata": {
      "needs_background": "light"
     },
     "output_type": "display_data"
    }
   ],
   "source": [
    "plt.hist(ml_student_age)"
   ]
  },
  {
   "cell_type": "code",
   "execution_count": 11,
   "id": "337f3844",
   "metadata": {},
   "outputs": [
    {
     "data": {
      "text/plain": [
       "Text(0, 0.5, 'age')"
      ]
     },
     "execution_count": 11,
     "metadata": {},
     "output_type": "execute_result"
    },
    {
     "data": {
      "image/png": "[encoded data removed]",
      "text/plain": [
       "<Figure size 432x288 with 1 Axes>"
      ]
     },
     "metadata": {
      "needs_background": "light"
     },
     "output_type": "display_data"
    }
   ],
   "source": [
    "plt.hist(ml_student_age)\n",
    "plt.xlabel(\"number of student\"  , fontsize=15)\n",
    "plt.ylabel(\"age\" , fontsize=15)"
   ]
  },
  {
   "cell_type": "code",
   "execution_count": 12,
   "id": "f23e56e0",
   "metadata": {},
   "outputs": [],
   "source": [
    "# Signature:\n",
    "# plt.hist(\n",
    "#     x,\n",
    "#     bins=None,\n",
    "#     range=None,\n",
    "#     density=False,\n",
    "#     weights=None,\n",
    "#     cumulative=False,\n",
    "#     bottom=None,\n",
    "#     histtype='bar',\n",
    "#     align='mid',\n",
    "#     orientation='vertical',\n",
    "#     rwidth=None,\n",
    "#     log=False,\n",
    "#     color=None,\n",
    "#     label=None,\n",
    "#     stacked=False,\n",
    "#     *,\n",
    "#     data=None,\n",
    "#     **kwargs,\n",
    "# )\n",
    "\n",
    "\n",
    "# all methods"
   ]
  },
  {
   "cell_type": "code",
   "execution_count": 30,
   "id": "2c40e663",
   "metadata": {},
   "outputs": [
    {
     "data": {
      "text/plain": [
       "Text(0, 0.5, 'age')"
      ]
     },
     "execution_count": 30,
     "metadata": {},
     "output_type": "execute_result"
    },
    {
     "data": {
      "image/png": "[encoded data removed]",
      "text/plain": [
       "<Figure size 432x288 with 1 Axes>"
      ]
     },
     "metadata": {
      "needs_background": "light"
     },
     "output_type": "display_data"
    }
   ],
   "source": [
    "plt.hist(ml_student_age , rwidth=0.8)\n",
    "plt.xlabel(\"number of student\"  , fontsize=15)\n",
    "plt.ylabel(\"age\" , fontsize=15)"
   ]
  },
  {
   "cell_type": "code",
   "execution_count": 29,
   "id": "8d633578",
   "metadata": {},
   "outputs": [],
   "source": [
    "bins = [20,25,30,35,40,45,50]"
   ]
  },
  {
   "cell_type": "code",
   "execution_count": 35,
   "id": "94fda14e",
   "metadata": {},
   "outputs": [
    {
     "data": {
      "text/plain": [
       "<matplotlib.legend.Legend at 0x23afe043100>"
      ]
     },
     "execution_count": 35,
     "metadata": {},
     "output_type": "execute_result"
    },
    {
     "data": {
      "image/png": "[encoded data removed]",
      "text/plain": [
       "<Figure size 432x288 with 1 Axes>"
      ]
     },
     "metadata": {
      "needs_background": "light"
     },
     "output_type": "display_data"
    }
   ],
   "source": [
    "plt.hist(ml_student_age, bins,rwidth=0.8,label=\"ML\")\n",
    "plt.xlabel(\"number of student\"  , fontsize=15)\n",
    "plt.ylabel(\"age\" , fontsize=15)\n",
    "plt.legend(loc=1)"
   ]
  },
  {
   "cell_type": "code",
   "execution_count": 52,
   "id": "db6a3981",
   "metadata": {},
   "outputs": [
    {
     "data": {
      "text/plain": [
       "<matplotlib.legend.Legend at 0x23afebec580>"
      ]
     },
     "execution_count": 52,
     "metadata": {},
     "output_type": "execute_result"
    },
    {
     "data": {
      "image/png": "[encoded data removed]",
      "text/plain": [
       "<Figure size 432x288 with 1 Axes>"
      ]
     },
     "metadata": {
      "needs_background": "light"
     },
     "output_type": "display_data"
    }
   ],
   "source": [
    "plt.hist([ml_student_age,ds_student_age], bins,rwidth=0.8,label=[\"ML\",\"DS\"])\n",
    "\n",
    "\n",
    "\n",
    "plt.xlabel(\"number of student\"  , fontsize=15)\n",
    "plt.ylabel(\"age\" , fontsize=15)\n",
    "plt.legend(loc=1)"
   ]
  },
  {
   "cell_type": "code",
   "execution_count": 56,
   "id": "58d0a7cd",
   "metadata": {},
   "outputs": [],
   "source": [
    "import matplotlib.style as st"
   ]
  },
  {
   "cell_type": "code",
   "execution_count": 57,
   "id": "e2b90e5a",
   "metadata": {},
   "outputs": [
    {
     "data": {
      "text/plain": [
       "<matplotlib.legend.Legend at 0x23afec75510>"
      ]
     },
     "execution_count": 57,
     "metadata": {},
     "output_type": "execute_result"
    },
    {
     "data": {
      "image/png": "[encoded data removed]",
      "text/plain": [
       "<Figure size 432x288 with 1 Axes>"
      ]
     },
     "metadata": {},
     "output_type": "display_data"
    }
   ],
   "source": [
    "plt.hist([ml_student_age,ds_student_age], bins,rwidth=0.8,label=[\"ML\",\"DS\"])\n",
    "st.use(\"ggplot\")\n",
    "\n",
    "\n",
    "plt.xlabel(\"number of student\"  , fontsize=15)\n",
    "plt.ylabel(\"age\" , fontsize=15)\n",
    "plt.legend(loc=1)"
   ]
  },
  {
   "cell_type": "code",
   "execution_count": null,
   "id": "a26301e1",
   "metadata": {},
   "outputs": [],
   "source": []
  }
 ],
 "metadata": {
  "kernelspec": {
   "display_name": "Python 3 (ipykernel)",
   "language": "python",
   "name": "python3"
  },
  "language_info": {
   "codemirror_mode": {
    "name": "ipython",
    "version": 3
   },
   "file_extension": ".py",
   "mimetype": "text/x-python",
   "name": "python",
   "nbconvert_exporter": "python",
   "pygments_lexer": "ipython3",
   "version": "3.10.4"
  }
 },
 "nbformat": 4,
 "nbformat_minor": 5
}
