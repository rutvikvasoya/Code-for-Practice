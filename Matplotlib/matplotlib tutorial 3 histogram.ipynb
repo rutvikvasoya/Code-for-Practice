{
 "cells": [
  {
   "cell_type": "code",
   "execution_count": 1,
   "id": "59e38624",
   "metadata": {},
   "outputs": [],
   "source": [
    "import matplotlib.pyplot as plt\n",
    "import numpy as np\n",
    "import random"
   ]
  },
  {
   "cell_type": "code",
   "execution_count": 2,
   "id": "b7a64c83",
   "metadata": {},
   "outputs": [
    {
     "data": {
      "text/plain": [
       "array([30, 30, 35, 43, 43, 26, 45, 20, 40, 34, 28, 22, 30, 40, 21, 43, 40,\n",
       "       39, 31, 20, 48, 48, 44, 41, 30, 24, 36, 40, 49, 26, 29, 49, 46, 40,\n",
       "       48, 29, 48, 20, 49, 20, 21, 45, 22, 29, 36, 41, 24, 27, 43, 32, 40,\n",
       "       39, 45, 46, 36, 32, 45, 26, 47, 33, 28, 35, 31, 28, 21, 23, 34, 22,\n",
       "       22, 33, 30, 41, 36, 40, 27, 42, 25, 25, 49, 20, 37, 39, 36, 37, 34,\n",
       "       27, 26, 39, 42, 41, 46, 21, 37, 24, 44, 45, 37, 26, 24, 41])"
      ]
     },
     "execution_count": 2,
     "metadata": {},
     "output_type": "execute_result"
    }
   ],
   "source": [
    "ml_student_age = np.random.randint(20,50,(100))\n",
    "ds_student_age = np.random.randint(15,35,(100))\n",
    "ml_student_age\n"
   ]
  },
  {
   "cell_type": "code",
   "execution_count": 3,
   "id": "2be0bd71",
   "metadata": {},
   "outputs": [
    {
     "data": {
      "text/plain": [
       "array([21, 20, 21, 34, 19, 23, 17, 28, 24, 19, 20, 33, 16, 20, 26, 17, 27,\n",
       "       33, 33, 31, 21, 33, 27, 20, 31, 17, 34, 26, 26, 33, 32, 30, 22, 34,\n",
       "       16, 26, 32, 30, 15, 19, 20, 19, 29, 23, 22, 34, 19, 22, 31, 30, 20,\n",
       "       31, 19, 20, 16, 17, 32, 34, 33, 29, 24, 15, 30, 21, 20, 27, 27, 21,\n",
       "       22, 18, 31, 20, 21, 24, 34, 22, 33, 18, 32, 28, 31, 15, 32, 27, 31,\n",
       "       17, 23, 23, 24, 25, 18, 22, 24, 23, 28, 15, 23, 34, 20, 16])"
      ]
     },
     "execution_count": 3,
     "metadata": {},
     "output_type": "execute_result"
    }
   ],
   "source": [
    "ds_student_age"
   ]
  },
  {
   "cell_type": "code",
   "execution_count": 4,
   "id": "2251433d",
   "metadata": {},
   "outputs": [
    {
     "data": {
      "text/plain": [
       "(array([13.,  7., 11., 10.,  7., 11., 11., 11., 10.,  9.]),\n",
       " array([20. , 22.9, 25.8, 28.7, 31.6, 34.5, 37.4, 40.3, 43.2, 46.1, 49. ]),\n",
       " <BarContainer object of 10 artists>)"
      ]
     },
     "execution_count": 4,
     "metadata": {},
     "output_type": "execute_result"
    },
    {
     "data": {
      "image/png": "[encoded data removed]",
      "text/plain": [
       "<Figure size 432x288 with 1 Axes>"
      ]
     },
     "metadata": {
      "needs_background": "light"
     },
     "output_type": "display_data"
    }
   ],
   "source": [
    "plt.hist(ml_student_age)"
   ]
  },
  {
   "cell_type": "code",
   "execution_count": 5,
   "id": "afdda13c",
   "metadata": {},
   "outputs": [
    {
     "data": {
      "text/plain": [
       "Text(0, 0.5, 'age')"
      ]
     },
     "execution_count": 5,
     "metadata": {},
     "output_type": "execute_result"
    },
    {
     "data": {
      "image/png": "[encoded data removed]",
      "text/plain": [
       "<Figure size 432x288 with 1 Axes>"
      ]
     },
     "metadata": {
      "needs_background": "light"
     },
     "output_type": "display_data"
    }
   ],
   "source": [
    "plt.hist(ml_student_age)\n",
    "plt.xlabel(\"number of student\"  , fontsize=15)\n",
    "plt.ylabel(\"age\" , fontsize=15)"
   ]
  },
  {
   "cell_type": "code",
   "execution_count": 6,
   "id": "64fa0a4b",
   "metadata": {},
   "outputs": [],
   "source": [
    "# Signature:\n",
    "# plt.hist(\n",
    "#     x,\n",
    "#     bins=None,\n",
    "#     range=None,\n",
    "#     density=False,\n",
    "#     weights=None,\n",
    "#     cumulative=False,\n",
    "#     bottom=None,\n",
    "#     histtype='bar',\n",
    "#     align='mid',\n",
    "#     orientation='vertical',\n",
    "#     rwidth=None,\n",
    "#     log=False,\n",
    "#     color=None,\n",
    "#     label=None,\n",
    "#     stacked=False,\n",
    "#     *,\n",
    "#     data=None,\n",
    "#     **kwargs,\n",
    "# )\n",
    "\n",
    "\n",
    "# all methods"
   ]
  },
  {
   "cell_type": "code",
   "execution_count": 7,
   "id": "6e6b1758",
   "metadata": {},
   "outputs": [
    {
     "data": {
      "text/plain": [
       "Text(0, 0.5, 'age')"
      ]
     },
     "execution_count": 7,
     "metadata": {},
     "output_type": "execute_result"
    },
    {
     "data": {
      "image/png": "[encoded data removed]",
      "text/plain": [
       "<Figure size 432x288 with 1 Axes>"
      ]
     },
     "metadata": {
      "needs_background": "light"
     },
     "output_type": "display_data"
    }
   ],
   "source": [
    "plt.hist(ml_student_age , rwidth=0.8)\n",
    "plt.xlabel(\"number of student\"  , fontsize=15)\n",
    "plt.ylabel(\"age\" , fontsize=15)"
   ]
  },
  {
   "cell_type": "code",
   "execution_count": 8,
   "id": "58c964d1",
   "metadata": {},
   "outputs": [],
   "source": [
    "bins = [20,25,30,35,40,45,50]"
   ]
  },
  {
   "cell_type": "code",
   "execution_count": 9,
   "id": "365996e5",
   "metadata": {},
   "outputs": [
    {
     "data": {
      "text/plain": [
       "<matplotlib.legend.Legend at 0x1ce8e5c9d80>"
      ]
     },
     "execution_count": 9,
     "metadata": {},
     "output_type": "execute_result"
    },
    {
     "data": {
      "image/png": "[encoded data removed]",
      "text/plain": [
       "<Figure size 432x288 with 1 Axes>"
      ]
     },
     "metadata": {
      "needs_background": "light"
     },
     "output_type": "display_data"
    }
   ],
   "source": [
    "plt.hist(ml_student_age, bins,rwidth=0.8,label=\"ML\")\n",
    "plt.xlabel(\"number of student\"  , fontsize=15)\n",
    "plt.ylabel(\"age\" , fontsize=15)\n",
    "plt.legend(loc=1)"
   ]
  },
  {
   "cell_type": "code",
   "execution_count": 10,
   "id": "78150193",
   "metadata": {},
   "outputs": [
    {
     "data": {
      "text/plain": [
       "<matplotlib.legend.Legend at 0x1ce8e5c8070>"
      ]
     },
     "execution_count": 10,
     "metadata": {},
     "output_type": "execute_result"
    },
    {
     "data": {
      "image/png": "[encoded data removed]",
      "text/plain": [
       "<Figure size 432x288 with 1 Axes>"
      ]
     },
     "metadata": {
      "needs_background": "light"
     },
     "output_type": "display_data"
    }
   ],
   "source": [
    "plt.hist([ml_student_age,ds_student_age], bins,rwidth=0.8,label=[\"ML\",\"DS\"])\n",
    "\n",
    "\n",
    "\n",
    "plt.xlabel(\"number of student\"  , fontsize=15)\n",
    "plt.ylabel(\"age\" , fontsize=15)\n",
    "plt.legend(loc=1)"
   ]
  },
  {
   "cell_type": "code",
   "execution_count": 11,
   "id": "737288dc",
   "metadata": {},
   "outputs": [],
   "source": [
    "import matplotlib.style as st"
   ]
  },
  {
   "cell_type": "code",
   "execution_count": 12,
   "id": "59a4701e",
   "metadata": {},
   "outputs": [
    {
     "data": {
      "text/plain": [
       "<matplotlib.legend.Legend at 0x1ce8e59c3d0>"
      ]
     },
     "execution_count": 12,
     "metadata": {},
     "output_type": "execute_result"
    },
    {
     "data": {
      "image/png": "[encoded data removed]",
      "text/plain": [
       "<Figure size 432x288 with 1 Axes>"
      ]
     },
     "metadata": {
      "needs_background": "light"
     },
     "output_type": "display_data"
    }
   ],
   "source": [
    "plt.hist([ml_student_age,ds_student_age], bins,rwidth=0.8,label=[\"ML\",\"DS\"])\n",
    "st.use(\"ggplot\")\n",
    "\n",
    "\n",
    "plt.xlabel(\"number of student\"  , fontsize=15)\n",
    "plt.ylabel(\"age\" , fontsize=15)\n",
    "plt.legend(loc=1)"
   ]
  },
  {
   "cell_type": "code",
   "execution_count": null,
   "id": "b82748f1",
   "metadata": {},
   "outputs": [],
   "source": []
  }
 ],
 "metadata": {
  "kernelspec": {
   "display_name": "Python 3 (ipykernel)",
   "language": "python",
   "name": "python3"
  },
  "language_info": {
   "codemirror_mode": {
    "name": "ipython",
    "version": 3
   },
   "file_extension": ".py",
   "mimetype": "text/x-python",
   "name": "python",
   "nbconvert_exporter": "python",
   "pygments_lexer": "ipython3",
   "version": "3.10.4"
  }
 },
 "nbformat": 4,
 "nbformat_minor": 5
}
