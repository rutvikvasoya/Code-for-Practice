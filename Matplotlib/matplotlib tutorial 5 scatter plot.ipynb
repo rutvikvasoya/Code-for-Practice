{
 "cells": [
  {
   "cell_type": "code",
   "execution_count": 1,
   "id": "f1ae2e9f",
   "metadata": {},
   "outputs": [],
   "source": [
    "import matplotlib.pyplot as plt\n",
    "import pandas as pd"
   ]
  },
  {
   "cell_type": "code",
   "execution_count": 2,
   "id": "57e40373",
   "metadata": {},
   "outputs": [
    {
     "data": {
      "text/html": [
       "<div>\n",
       "<style scoped>\n",
       "    .dataframe tbody tr th:only-of-type {\n",
       "        vertical-align: middle;\n",
       "    }\n",
       "\n",
       "    .dataframe tbody tr th {\n",
       "        vertical-align: top;\n",
       "    }\n",
       "\n",
       "    .dataframe thead th {\n",
       "        text-align: right;\n",
       "    }\n",
       "</style>\n",
       "<table border=\"1\" class=\"dataframe\">\n",
       "  <thead>\n",
       "    <tr style=\"text-align: right;\">\n",
       "      <th></th>\n",
       "      <th>App</th>\n",
       "      <th>Category</th>\n",
       "      <th>Rating</th>\n",
       "      <th>Reviews</th>\n",
       "      <th>Size</th>\n",
       "      <th>Installs</th>\n",
       "      <th>Type</th>\n",
       "      <th>Price</th>\n",
       "      <th>Content Rating</th>\n",
       "      <th>Genres</th>\n",
       "      <th>Last Updated</th>\n",
       "      <th>Current Ver</th>\n",
       "      <th>Android Ver</th>\n",
       "    </tr>\n",
       "  </thead>\n",
       "  <tbody>\n",
       "    <tr>\n",
       "      <th>0</th>\n",
       "      <td>Photo Editor &amp; Candy Camera &amp; Grid &amp; ScrapBook</td>\n",
       "      <td>ART_AND_DESIGN</td>\n",
       "      <td>4.1</td>\n",
       "      <td>159</td>\n",
       "      <td>19M</td>\n",
       "      <td>10,000+</td>\n",
       "      <td>Free</td>\n",
       "      <td>0</td>\n",
       "      <td>Everyone</td>\n",
       "      <td>Art &amp; Design</td>\n",
       "      <td>January 7, 2018</td>\n",
       "      <td>1.0.0</td>\n",
       "      <td>4.0.3 and up</td>\n",
       "    </tr>\n",
       "    <tr>\n",
       "      <th>1</th>\n",
       "      <td>Coloring book moana</td>\n",
       "      <td>ART_AND_DESIGN</td>\n",
       "      <td>3.9</td>\n",
       "      <td>967</td>\n",
       "      <td>14M</td>\n",
       "      <td>500,000+</td>\n",
       "      <td>Free</td>\n",
       "      <td>0</td>\n",
       "      <td>Everyone</td>\n",
       "      <td>Art &amp; Design;Pretend Play</td>\n",
       "      <td>January 15, 2018</td>\n",
       "      <td>2.0.0</td>\n",
       "      <td>4.0.3 and up</td>\n",
       "    </tr>\n",
       "    <tr>\n",
       "      <th>2</th>\n",
       "      <td>U Launcher Lite – FREE Live Cool Themes, Hide ...</td>\n",
       "      <td>ART_AND_DESIGN</td>\n",
       "      <td>4.7</td>\n",
       "      <td>87510</td>\n",
       "      <td>8.7M</td>\n",
       "      <td>5,000,000+</td>\n",
       "      <td>Free</td>\n",
       "      <td>0</td>\n",
       "      <td>Everyone</td>\n",
       "      <td>Art &amp; Design</td>\n",
       "      <td>August 1, 2018</td>\n",
       "      <td>1.2.4</td>\n",
       "      <td>4.0.3 and up</td>\n",
       "    </tr>\n",
       "    <tr>\n",
       "      <th>3</th>\n",
       "      <td>Sketch - Draw &amp; Paint</td>\n",
       "      <td>ART_AND_DESIGN</td>\n",
       "      <td>4.5</td>\n",
       "      <td>215644</td>\n",
       "      <td>25M</td>\n",
       "      <td>50,000,000+</td>\n",
       "      <td>Free</td>\n",
       "      <td>0</td>\n",
       "      <td>Teen</td>\n",
       "      <td>Art &amp; Design</td>\n",
       "      <td>June 8, 2018</td>\n",
       "      <td>Varies with device</td>\n",
       "      <td>4.2 and up</td>\n",
       "    </tr>\n",
       "    <tr>\n",
       "      <th>4</th>\n",
       "      <td>Pixel Draw - Number Art Coloring Book</td>\n",
       "      <td>ART_AND_DESIGN</td>\n",
       "      <td>4.3</td>\n",
       "      <td>967</td>\n",
       "      <td>2.8M</td>\n",
       "      <td>100,000+</td>\n",
       "      <td>Free</td>\n",
       "      <td>0</td>\n",
       "      <td>Everyone</td>\n",
       "      <td>Art &amp; Design;Creativity</td>\n",
       "      <td>June 20, 2018</td>\n",
       "      <td>1.1</td>\n",
       "      <td>4.4 and up</td>\n",
       "    </tr>\n",
       "    <tr>\n",
       "      <th>...</th>\n",
       "      <td>...</td>\n",
       "      <td>...</td>\n",
       "      <td>...</td>\n",
       "      <td>...</td>\n",
       "      <td>...</td>\n",
       "      <td>...</td>\n",
       "      <td>...</td>\n",
       "      <td>...</td>\n",
       "      <td>...</td>\n",
       "      <td>...</td>\n",
       "      <td>...</td>\n",
       "      <td>...</td>\n",
       "      <td>...</td>\n",
       "    </tr>\n",
       "    <tr>\n",
       "      <th>195</th>\n",
       "      <td>USPS MOBILE®</td>\n",
       "      <td>BUSINESS</td>\n",
       "      <td>3.9</td>\n",
       "      <td>16589</td>\n",
       "      <td>9.1M</td>\n",
       "      <td>1,000,000+</td>\n",
       "      <td>Free</td>\n",
       "      <td>0</td>\n",
       "      <td>Everyone</td>\n",
       "      <td>Business</td>\n",
       "      <td>June 14, 2018</td>\n",
       "      <td>4.9.10</td>\n",
       "      <td>4.0.3 and up</td>\n",
       "    </tr>\n",
       "    <tr>\n",
       "      <th>196</th>\n",
       "      <td>Job Search by ZipRecruiter</td>\n",
       "      <td>BUSINESS</td>\n",
       "      <td>4.8</td>\n",
       "      <td>148945</td>\n",
       "      <td>25M</td>\n",
       "      <td>1,000,000+</td>\n",
       "      <td>Free</td>\n",
       "      <td>0</td>\n",
       "      <td>Everyone</td>\n",
       "      <td>Business</td>\n",
       "      <td>July 19, 2018</td>\n",
       "      <td>5.2.8</td>\n",
       "      <td>5.0 and up</td>\n",
       "    </tr>\n",
       "    <tr>\n",
       "      <th>197</th>\n",
       "      <td>Curriculum vitae App CV Builder Free Resume Maker</td>\n",
       "      <td>BUSINESS</td>\n",
       "      <td>4.5</td>\n",
       "      <td>4458</td>\n",
       "      <td>3.9M</td>\n",
       "      <td>500,000+</td>\n",
       "      <td>Free</td>\n",
       "      <td>0</td>\n",
       "      <td>Everyone</td>\n",
       "      <td>Business</td>\n",
       "      <td>July 8, 2018</td>\n",
       "      <td>3.3</td>\n",
       "      <td>4.1 and up</td>\n",
       "    </tr>\n",
       "    <tr>\n",
       "      <th>198</th>\n",
       "      <td>Google Primer</td>\n",
       "      <td>BUSINESS</td>\n",
       "      <td>4.4</td>\n",
       "      <td>62272</td>\n",
       "      <td>18M</td>\n",
       "      <td>10,000,000+</td>\n",
       "      <td>Free</td>\n",
       "      <td>0</td>\n",
       "      <td>Everyone</td>\n",
       "      <td>Business</td>\n",
       "      <td>June 26, 2018</td>\n",
       "      <td>3.550.2</td>\n",
       "      <td>4.1 and up</td>\n",
       "    </tr>\n",
       "    <tr>\n",
       "      <th>199</th>\n",
       "      <td>Alba Heaven - Alvarez Job Portal Services</td>\n",
       "      <td>BUSINESS</td>\n",
       "      <td>4.0</td>\n",
       "      <td>8941</td>\n",
       "      <td>12M</td>\n",
       "      <td>5,000,000+</td>\n",
       "      <td>Free</td>\n",
       "      <td>0</td>\n",
       "      <td>Everyone</td>\n",
       "      <td>Business</td>\n",
       "      <td>July 31, 2018</td>\n",
       "      <td>4.6.30</td>\n",
       "      <td>4.0.3 and up</td>\n",
       "    </tr>\n",
       "  </tbody>\n",
       "</table>\n",
       "<p>200 rows × 13 columns</p>\n",
       "</div>"
      ],
      "text/plain": [
       "                                                   App        Category  \\\n",
       "0       Photo Editor & Candy Camera & Grid & ScrapBook  ART_AND_DESIGN   \n",
       "1                                  Coloring book moana  ART_AND_DESIGN   \n",
       "2    U Launcher Lite – FREE Live Cool Themes, Hide ...  ART_AND_DESIGN   \n",
       "3                                Sketch - Draw & Paint  ART_AND_DESIGN   \n",
       "4                Pixel Draw - Number Art Coloring Book  ART_AND_DESIGN   \n",
       "..                                                 ...             ...   \n",
       "195                                       USPS MOBILE®        BUSINESS   \n",
       "196                         Job Search by ZipRecruiter        BUSINESS   \n",
       "197  Curriculum vitae App CV Builder Free Resume Maker        BUSINESS   \n",
       "198                                      Google Primer        BUSINESS   \n",
       "199          Alba Heaven - Alvarez Job Portal Services        BUSINESS   \n",
       "\n",
       "     Rating  Reviews  Size     Installs  Type  Price Content Rating  \\\n",
       "0       4.1      159   19M      10,000+  Free      0       Everyone   \n",
       "1       3.9      967   14M     500,000+  Free      0       Everyone   \n",
       "2       4.7    87510  8.7M   5,000,000+  Free      0       Everyone   \n",
       "3       4.5   215644   25M  50,000,000+  Free      0           Teen   \n",
       "4       4.3      967  2.8M     100,000+  Free      0       Everyone   \n",
       "..      ...      ...   ...          ...   ...    ...            ...   \n",
       "195     3.9    16589  9.1M   1,000,000+  Free      0       Everyone   \n",
       "196     4.8   148945   25M   1,000,000+  Free      0       Everyone   \n",
       "197     4.5     4458  3.9M     500,000+  Free      0       Everyone   \n",
       "198     4.4    62272   18M  10,000,000+  Free      0       Everyone   \n",
       "199     4.0     8941   12M   5,000,000+  Free      0       Everyone   \n",
       "\n",
       "                        Genres      Last Updated         Current Ver  \\\n",
       "0                 Art & Design   January 7, 2018               1.0.0   \n",
       "1    Art & Design;Pretend Play  January 15, 2018               2.0.0   \n",
       "2                 Art & Design    August 1, 2018               1.2.4   \n",
       "3                 Art & Design      June 8, 2018  Varies with device   \n",
       "4      Art & Design;Creativity     June 20, 2018                 1.1   \n",
       "..                         ...               ...                 ...   \n",
       "195                   Business     June 14, 2018              4.9.10   \n",
       "196                   Business     July 19, 2018               5.2.8   \n",
       "197                   Business      July 8, 2018                 3.3   \n",
       "198                   Business     June 26, 2018             3.550.2   \n",
       "199                   Business     July 31, 2018              4.6.30   \n",
       "\n",
       "      Android Ver  \n",
       "0    4.0.3 and up  \n",
       "1    4.0.3 and up  \n",
       "2    4.0.3 and up  \n",
       "3      4.2 and up  \n",
       "4      4.4 and up  \n",
       "..            ...  \n",
       "195  4.0.3 and up  \n",
       "196    5.0 and up  \n",
       "197    4.1 and up  \n",
       "198    4.1 and up  \n",
       "199  4.0.3 and up  \n",
       "\n",
       "[200 rows x 13 columns]"
      ]
     },
     "execution_count": 2,
     "metadata": {},
     "output_type": "execute_result"
    }
   ],
   "source": [
    "google_playstore_data = pd.read_csv(\"C:\\\\Users\\\\Rutvik\\\\Desktop\\\\Matplotlib\\\\Matplotlib\\\\googleplaystore.csv\" , nrows=200)\n",
    "google_playstore_data"
   ]
  },
  {
   "cell_type": "code",
   "execution_count": 3,
   "id": "b79f8c10",
   "metadata": {},
   "outputs": [],
   "source": [
    "x = google_playstore_data[\"Rating\"]\n",
    "y = google_playstore_data[\"Reviews\"]\n"
   ]
  },
  {
   "cell_type": "code",
   "execution_count": 4,
   "id": "91b1531a",
   "metadata": {},
   "outputs": [
    {
     "data": {
      "text/plain": [
       "<matplotlib.collections.PathCollection at 0x1fda2d673d0>"
      ]
     },
     "execution_count": 4,
     "metadata": {},
     "output_type": "execute_result"
    },
    {
     "data": {
      "image/png": "[encoded data removed]",
      "text/plain": [
       "<Figure size 432x288 with 1 Axes>"
      ]
     },
     "metadata": {
      "needs_background": "light"
     },
     "output_type": "display_data"
    }
   ],
   "source": [
    "plt.scatter(x,y)"
   ]
  },
  {
   "cell_type": "code",
   "execution_count": 5,
   "id": "462e4c03",
   "metadata": {},
   "outputs": [
    {
     "data": {
      "text/plain": [
       "Text(0, 0.5, 'reviews')"
      ]
     },
     "execution_count": 5,
     "metadata": {},
     "output_type": "execute_result"
    },
    {
     "data": {
      "image/png": "[encoded data removed]",
      "text/plain": [
       "<Figure size 432x288 with 1 Axes>"
      ]
     },
     "metadata": {
      "needs_background": "light"
     },
     "output_type": "display_data"
    }
   ],
   "source": [
    "plt.scatter(x,y , color=\"r\" , marker=\"*\")\n",
    "plt.title(\"google playstore app data\", fontsize=15)\n",
    "plt.xlabel(\"ratings\", fontsize=12)\n",
    "plt.ylabel(\"reviews\", fontsize=12)"
   ]
  },
  {
   "cell_type": "code",
   "execution_count": 6,
   "id": "3af39d33",
   "metadata": {},
   "outputs": [
    {
     "data": {
      "text/plain": [
       "Text(0, 0.5, 'reviews')"
      ]
     },
     "execution_count": 6,
     "metadata": {},
     "output_type": "execute_result"
    },
    {
     "data": {
      "image/png": "[encoded data removed]",
      "text/plain": [
       "<Figure size 432x288 with 1 Axes>"
      ]
     },
     "metadata": {
      "needs_background": "light"
     },
     "output_type": "display_data"
    }
   ],
   "source": [
    "plt.scatter(x,y , color=\"r\" , marker=\"*\")\n",
    "plt.scatter(x,google_playstore_data[\"Installs\"] , color=\"g\" , marker=\"*\")\n",
    "\n",
    "\n",
    "\n",
    "plt.title(\"google playstore app data\", fontsize=15)\n",
    "plt.xlabel(\"ratings\", fontsize=12)\n",
    "plt.ylabel(\"reviews\", fontsize=12)"
   ]
  },
  {
   "cell_type": "code",
   "execution_count": null,
   "id": "959f9cda",
   "metadata": {},
   "outputs": [],
   "source": []
  }
 ],
 "metadata": {
  "kernelspec": {
   "display_name": "Python 3 (ipykernel)",
   "language": "python",
   "name": "python3"
  },
  "language_info": {
   "codemirror_mode": {
    "name": "ipython",
    "version": 3
   },
   "file_extension": ".py",
   "mimetype": "text/x-python",
   "name": "python",
   "nbconvert_exporter": "python",
   "pygments_lexer": "ipython3",
   "version": "3.10.4"
  }
 },
 "nbformat": 4,
 "nbformat_minor": 5
}
