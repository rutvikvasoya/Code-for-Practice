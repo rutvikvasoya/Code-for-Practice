{
 "cells": [
  {
   "cell_type": "code",
   "execution_count": 1,
   "id": "fa5222ef",
   "metadata": {},
   "outputs": [],
   "source": [
    "import numpy as np"
   ]
  },
  {
   "cell_type": "code",
   "execution_count": 2,
   "id": "6988e508",
   "metadata": {},
   "outputs": [],
   "source": [
    "string1 = \"hello how are you\"\n",
    "string2 = \"hope you enjoying your day\""
   ]
  },
  {
   "cell_type": "code",
   "execution_count": 3,
   "id": "2535786f",
   "metadata": {},
   "outputs": [
    {
     "data": {
      "text/plain": [
       "array('hello how are youhope you enjoying your day', dtype='<U43')"
      ]
     },
     "execution_count": 3,
     "metadata": {},
     "output_type": "execute_result"
    }
   ],
   "source": [
    "np.char.add(string1,string2)"
   ]
  },
  {
   "cell_type": "code",
   "execution_count": 4,
   "id": "b2592192",
   "metadata": {},
   "outputs": [
    {
     "data": {
      "text/plain": [
       "array('HELLO HOW ARE YOU', dtype='<U17')"
      ]
     },
     "execution_count": 4,
     "metadata": {},
     "output_type": "execute_result"
    }
   ],
   "source": [
    "np.char.upper(string1)"
   ]
  },
  {
   "cell_type": "code",
   "execution_count": 5,
   "id": "63223180",
   "metadata": {},
   "outputs": [],
   "source": [
    "## same as lowe case"
   ]
  },
  {
   "cell_type": "code",
   "execution_count": 6,
   "id": "699decc2",
   "metadata": {},
   "outputs": [
    {
     "data": {
      "text/plain": [
       "array(list(['hello', 'how', 'are', 'you']), dtype=object)"
      ]
     },
     "execution_count": 6,
     "metadata": {},
     "output_type": "execute_result"
    }
   ],
   "source": [
    "np.char.split(string1)"
   ]
  },
  {
   "cell_type": "code",
   "execution_count": 7,
   "id": "3a2952f8",
   "metadata": {},
   "outputs": [
    {
     "data": {
      "text/plain": [
       "array('HELLO how are you', dtype='<U17')"
      ]
     },
     "execution_count": 7,
     "metadata": {},
     "output_type": "execute_result"
    }
   ],
   "source": [
    "np.char.replace(string1, \"hello\",\"HELLO\")"
   ]
  },
  {
   "cell_type": "code",
   "execution_count": 8,
   "id": "9fcbbf6f",
   "metadata": {},
   "outputs": [
    {
     "data": {
      "text/plain": [
       "array(False)"
      ]
     },
     "execution_count": 8,
     "metadata": {},
     "output_type": "execute_result"
    }
   ],
   "source": [
    "np.char.equal(string1,string2)"
   ]
  },
  {
   "cell_type": "code",
   "execution_count": 9,
   "id": "cefb6aeb",
   "metadata": {},
   "outputs": [
    {
     "data": {
      "text/plain": [
       "array(2)"
      ]
     },
     "execution_count": 9,
     "metadata": {},
     "output_type": "execute_result"
    }
   ],
   "source": [
    "np.char.count(string1,\"h\")"
   ]
  },
  {
   "cell_type": "code",
   "execution_count": null,
   "id": "64ef6512",
   "metadata": {},
   "outputs": [],
   "source": []
  }
 ],
 "metadata": {
  "kernelspec": {
   "display_name": "Python 3 (ipykernel)",
   "language": "python",
   "name": "python3"
  },
  "language_info": {
   "codemirror_mode": {
    "name": "ipython",
    "version": 3
   },
   "file_extension": ".py",
   "mimetype": "text/x-python",
   "name": "python",
   "nbconvert_exporter": "python",
   "pygments_lexer": "ipython3",
   "version": "3.10.4"
  }
 },
 "nbformat": 4,
 "nbformat_minor": 5
}
