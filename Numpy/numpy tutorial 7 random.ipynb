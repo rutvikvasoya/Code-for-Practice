{
 "cells": [
  {
   "cell_type": "code",
   "execution_count": 2,
   "id": "cb029f7f",
   "metadata": {},
   "outputs": [],
   "source": [
    "import numpy as np"
   ]
  },
  {
   "cell_type": "code",
   "execution_count": 6,
   "id": "d88c848f",
   "metadata": {},
   "outputs": [
    {
     "data": {
      "text/plain": [
       "array([0.81473345])"
      ]
     },
     "execution_count": 6,
     "metadata": {},
     "output_type": "execute_result"
    }
   ],
   "source": [
    "np.random.random(1)"
   ]
  },
  {
   "cell_type": "code",
   "execution_count": 3,
   "id": "c8c6d4f2",
   "metadata": {},
   "outputs": [
    {
     "data": {
      "text/plain": [
       "array([[0.88991069, 0.45796406, 0.63290956],\n",
       "       [0.73006541, 0.917318  , 0.44433427],\n",
       "       [0.57518945, 0.31716296, 0.41118302]])"
      ]
     },
     "execution_count": 3,
     "metadata": {},
     "output_type": "execute_result"
    }
   ],
   "source": [
    "\n",
    "np.random.random((3,3))"
   ]
  },
  {
   "cell_type": "code",
   "execution_count": 11,
   "id": "08bdb898",
   "metadata": {},
   "outputs": [
    {
     "data": {
      "text/plain": [
       "1"
      ]
     },
     "execution_count": 11,
     "metadata": {},
     "output_type": "execute_result"
    }
   ],
   "source": [
    "np.random.randint(1,5)"
   ]
  },
  {
   "cell_type": "code",
   "execution_count": 5,
   "id": "2d391456",
   "metadata": {},
   "outputs": [
    {
     "data": {
      "text/plain": [
       "array([[2, 3, 4, 3, 4, 1],\n",
       "       [3, 4, 3, 4, 4, 1],\n",
       "       [2, 2, 1, 3, 3, 3],\n",
       "       [1, 2, 1, 2, 4, 1],\n",
       "       [4, 3, 4, 3, 1, 4]])"
      ]
     },
     "execution_count": 5,
     "metadata": {},
     "output_type": "execute_result"
    }
   ],
   "source": [
    "np.random.randint(1,5,(5,6))      "
   ]
  },
  {
   "cell_type": "code",
   "execution_count": 6,
   "id": "81f75f3c",
   "metadata": {},
   "outputs": [
    {
     "data": {
      "text/plain": [
       "array([[[4, 5, 5, 5, 4, 6],\n",
       "        [5, 6, 4, 5, 5, 6],\n",
       "        [5, 6, 4, 6, 5, 4],\n",
       "        [4, 4, 5, 4, 5, 6],\n",
       "        [5, 4, 5, 4, 4, 6]],\n",
       "\n",
       "       [[6, 5, 6, 6, 6, 4],\n",
       "        [4, 6, 4, 4, 6, 4],\n",
       "        [5, 6, 6, 4, 4, 5],\n",
       "        [6, 6, 4, 4, 5, 6],\n",
       "        [4, 4, 5, 6, 4, 4]],\n",
       "\n",
       "       [[5, 5, 6, 4, 4, 4],\n",
       "        [6, 6, 4, 4, 4, 6],\n",
       "        [4, 6, 4, 6, 5, 4],\n",
       "        [5, 6, 5, 5, 4, 5],\n",
       "        [4, 4, 6, 6, 5, 6]]])"
      ]
     },
     "execution_count": 6,
     "metadata": {},
     "output_type": "execute_result"
    }
   ],
   "source": [
    "np.random.randint(4,7,(3,5,6))      "
   ]
  },
  {
   "cell_type": "code",
   "execution_count": 17,
   "id": "4f09a781",
   "metadata": {},
   "outputs": [
    {
     "data": {
      "text/plain": [
       "2"
      ]
     },
     "execution_count": 17,
     "metadata": {},
     "output_type": "execute_result"
    }
   ],
   "source": [
    "np.random.seed(10)\n",
    "np.random.randint(1,5)\n",
    "\n"
   ]
  },
  {
   "cell_type": "code",
   "execution_count": 8,
   "id": "f4418958",
   "metadata": {},
   "outputs": [
    {
     "data": {
      "text/plain": [
       "2"
      ]
     },
     "execution_count": 8,
     "metadata": {},
     "output_type": "execute_result"
    }
   ],
   "source": [
    "np.random.seed(10)\n",
    "np.random.randint(1,5)"
   ]
  },
  {
   "cell_type": "code",
   "execution_count": 19,
   "id": "fbbc8e64",
   "metadata": {},
   "outputs": [
    {
     "data": {
      "text/plain": [
       "1"
      ]
     },
     "execution_count": 19,
     "metadata": {},
     "output_type": "execute_result"
    }
   ],
   "source": [
    "x = [1,2,3,4,5]\n",
    "np.random.choice(x)"
   ]
  },
  {
   "cell_type": "code",
   "execution_count": null,
   "id": "de22e894",
   "metadata": {},
   "outputs": [],
   "source": []
  }
 ],
 "metadata": {
  "kernelspec": {
   "display_name": "Python 3 (ipykernel)",
   "language": "python",
   "name": "python3"
  },
  "language_info": {
   "codemirror_mode": {
    "name": "ipython",
    "version": 3
   },
   "file_extension": ".py",
   "mimetype": "text/x-python",
   "name": "python",
   "nbconvert_exporter": "python",
   "pygments_lexer": "ipython3",
   "version": "3.10.4"
  }
 },
 "nbformat": 4,
 "nbformat_minor": 5
}
