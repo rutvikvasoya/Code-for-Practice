{
 "cells": [
  {
   "cell_type": "code",
   "execution_count": 2,
   "id": "33b23034",
   "metadata": {},
   "outputs": [
    {
     "name": "stdout",
     "output_type": "stream",
     "text": [
      "<class 'pandas.core.frame.DataFrame'>\n"
     ]
    }
   ],
   "source": [
    "import pandas as pd\n",
    "\n",
    "l =  [1,2,3,4,5]\n",
    "var = pd.DataFrame(l)\n",
    "print(type(var))"
   ]
  },
  {
   "cell_type": "code",
   "execution_count": 11,
   "id": "e1cda509",
   "metadata": {},
   "outputs": [
    {
     "name": "stdout",
     "output_type": "stream",
     "text": [
      "<class 'pandas.core.frame.DataFrame'>\n",
      "   a   b\n",
      "a  1   6\n",
      "b  2   7\n",
      "c  3   8\n",
      "d  4   9\n",
      "e  5  10\n",
      "------------------------\n",
      "2\n"
     ]
    }
   ],
   "source": [
    "d = {\n",
    "    'a' : [1,2,3,4,5],\n",
    "    'b' : [6,7,8,9,10]\n",
    "}\n",
    "\n",
    "var = pd.DataFrame(d,index = ['a','b','c','d','e'])\n",
    "\n",
    "print(type(var))\n",
    "print(var)\n",
    "print('------------------------')\n",
    "print(var['a'][1])"
   ]
  },
  {
   "cell_type": "code",
   "execution_count": 12,
   "id": "3aa9be5d",
   "metadata": {},
   "outputs": [
    {
     "name": "stdout",
     "output_type": "stream",
     "text": [
      "   0  1  2  3   4\n",
      "0  1  2  3  4   5\n",
      "1  6  7  8  9  10\n"
     ]
    }
   ],
   "source": [
    "list_1 = [[1,2,3,4,5],[6,7,8,9,10]]\n",
    "\n",
    "var2 = pd.DataFrame(list_1)\n",
    "\n",
    "print(var2)"
   ]
  },
  {
   "cell_type": "code",
   "execution_count": null,
   "id": "8dc1b847",
   "metadata": {},
   "outputs": [],
   "source": []
  }
 ],
 "metadata": {
  "kernelspec": {
   "display_name": "Python 3 (ipykernel)",
   "language": "python",
   "name": "python3"
  },
  "language_info": {
   "codemirror_mode": {
    "name": "ipython",
    "version": 3
   },
   "file_extension": ".py",
   "mimetype": "text/x-python",
   "name": "python",
   "nbconvert_exporter": "python",
   "pygments_lexer": "ipython3",
   "version": "3.9.13"
  }
 },
 "nbformat": 4,
 "nbformat_minor": 5
}
